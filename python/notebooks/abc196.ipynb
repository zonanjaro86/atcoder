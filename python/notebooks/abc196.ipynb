{
 "metadata": {
  "language_info": {
   "codemirror_mode": {
    "name": "ipython",
    "version": 3
   },
   "file_extension": ".py",
   "mimetype": "text/x-python",
   "name": "python",
   "nbconvert_exporter": "python",
   "pygments_lexer": "ipython3",
   "version": "3.7.4-final"
  },
  "orig_nbformat": 2,
  "kernelspec": {
   "name": "python3",
   "display_name": "Python 3.7.4 64-bit ('venv')",
   "metadata": {
    "interpreter": {
     "hash": "fe9a5490ecbfadacebb578445f08166bf67d9775ffdae10f9a73f275ffe619d5"
    }
   }
  }
 },
 "nbformat": 4,
 "nbformat_minor": 2,
 "cells": [
  {
   "cell_type": "code",
   "execution_count": 17,
   "metadata": {},
   "outputs": [],
   "source": [
    "import numpy as np"
   ]
  },
  {
   "cell_type": "code",
   "execution_count": 31,
   "metadata": {},
   "outputs": [],
   "source": [
    "N = 3\n",
    "A = np.array((-10, 10, 10))\n",
    "T = np.array((2, 1, 3))\n",
    "Q = 5\n",
    "X = np.array((-15, -10, -5, 0, 5))\n"
   ]
  },
  {
   "cell_type": "code",
   "execution_count": 32,
   "metadata": {},
   "outputs": [
    {
     "output_type": "stream",
     "name": "stdout",
     "text": [
      "0\n[-10 -10  -5   0   5]\n[-10 -10  -5   0   5]\n1\n[ 0  0  5 10 15]\n2\n[ 0  0  5 10 10]\n"
     ]
    }
   ],
   "source": [
    "for i in range(N):\n",
    "    print(i)\n",
    "    if T[i] == 1:\n",
    "        X += A[i]\n",
    "    elif T[i] == 2:\n",
    "        X[X<A[i]] = A[i]\n",
    "        print(X)\n",
    "    else:\n",
    "        X[X>A[i]] = A[i]\n",
    "    print(X)\n",
    "\n"
   ]
  },
  {
   "cell_type": "code",
   "execution_count": 5,
   "metadata": {},
   "outputs": [],
   "source": [
    "def f(x, a, t):\n",
    "    if t == 1:\n",
    "        return x + a\n",
    "    elif t == 2:\n",
    "        return max(x, a)\n",
    "    else:\n",
    "        return min(x, a)"
   ]
  },
  {
   "cell_type": "code",
   "execution_count": 8,
   "metadata": {},
   "outputs": [],
   "source": [
    "def fs(x):\n",
    "    ans = x\n",
    "    for i in range(N):\n",
    "        ans = f(ans, a[i], t[i])\n",
    "    return ans"
   ]
  },
  {
   "cell_type": "code",
   "execution_count": 11,
   "metadata": {},
   "outputs": [
    {
     "output_type": "execute_result",
     "data": {
      "text/plain": [
       "5"
      ]
     },
     "metadata": {},
     "execution_count": 11
    }
   ],
   "source": [
    "fs(-5)"
   ]
  },
  {
   "cell_type": "code",
   "execution_count": 12,
   "metadata": {},
   "outputs": [
    {
     "output_type": "stream",
     "name": "stdout",
     "text": [
      "0\n0\n5\n10\n10\n"
     ]
    }
   ],
   "source": [
    "for xi in x:\n",
    "    return fs(xi)"
   ]
  },
  {
   "cell_type": "code",
   "execution_count": null,
   "metadata": {},
   "outputs": [],
   "source": []
  }
 ]
}