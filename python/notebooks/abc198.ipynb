{
 "metadata": {
  "language_info": {
   "codemirror_mode": {
    "name": "ipython",
    "version": 3
   },
   "file_extension": ".py",
   "mimetype": "text/x-python",
   "name": "python",
   "nbconvert_exporter": "python",
   "pygments_lexer": "ipython3",
   "version": "3.7.4-final"
  },
  "orig_nbformat": 2,
  "kernelspec": {
   "name": "python374jvsc74a57bd0fe9a5490ecbfadacebb578445f08166bf67d9775ffdae10f9a73f275ffe619d5",
   "display_name": "Python 3.7.4 64-bit ('venv': venv)"
  }
 },
 "nbformat": 4,
 "nbformat_minor": 2,
 "cells": [
  {
   "cell_type": "code",
   "execution_count": 3,
   "metadata": {},
   "outputs": [
    {
     "output_type": "stream",
     "name": "stdout",
     "text": [
      "100\n999\n"
     ]
    }
   ],
   "source": [
    "S = 'abc'\n",
    "print(10**(len(S)-1))\n",
    "print(10**len(S)-1)"
   ]
  },
  {
   "cell_type": "code",
   "execution_count": 9,
   "metadata": {},
   "outputs": [],
   "source": [
    "import itertools"
   ]
  },
  {
   "cell_type": "code",
   "execution_count": 41,
   "metadata": {},
   "outputs": [
    {
     "output_type": "stream",
     "name": "stdout",
     "text": [
      "['c', 'b']\nno\n"
     ]
    }
   ],
   "source": [
    "S1 = 'c'\n",
    "S2 = 'b'\n",
    "S3 = 'c'\n",
    "\n",
    "chars = list(set([*S1, *S2, *S3]))\n",
    "print(chars)\n",
    "numbers = list(map(str,range(0,10)))\n",
    "is_solve = False\n",
    "for nums in itertools.permutations(numbers,len(chars)):\n",
    "\n",
    "    N1s = ''\n",
    "    for s in S1:\n",
    "        N1s += nums[chars.index(s)]\n",
    "    N2s = ''\n",
    "    for s in S2:\n",
    "        N2s += nums[chars.index(s)]\n",
    "    N3s = ''\n",
    "    for s in S3:\n",
    "        N3s += nums[chars.index(s)]\n",
    "\n",
    "    # N3 = N1 + N2 を満たすか\n",
    "    if int(N3s) != int(N1s) + int(N2s):\n",
    "        continue\n",
    "\n",
    "    # 先頭に無駄な0がないか\n",
    "    if N1s[0] == '0' or N2s[0] == '0' or N3s[0] == '0':\n",
    "        continue\n",
    "\n",
    "    is_solve = True\n",
    "    print(N1s, N2s, N3s)\n",
    "    break\n",
    "if not is_solve:\n",
    "    print('no')\n"
   ]
  },
  {
   "cell_type": "code",
   "execution_count": null,
   "metadata": {},
   "outputs": [],
   "source": []
  }
 ]
}