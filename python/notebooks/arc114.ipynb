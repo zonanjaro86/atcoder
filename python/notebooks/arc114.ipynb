{
 "metadata": {
  "language_info": {
   "codemirror_mode": {
    "name": "ipython",
    "version": 3
   },
   "file_extension": ".py",
   "mimetype": "text/x-python",
   "name": "python",
   "nbconvert_exporter": "python",
   "pygments_lexer": "ipython3",
   "version": "3.7.4-final"
  },
  "orig_nbformat": 2,
  "kernelspec": {
   "name": "python3",
   "display_name": "Python 3.7.4 64-bit ('venv': venv)",
   "metadata": {
    "interpreter": {
     "hash": "fe9a5490ecbfadacebb578445f08166bf67d9775ffdae10f9a73f275ffe619d5"
    }
   }
  }
 },
 "nbformat": 4,
 "nbformat_minor": 2,
 "cells": [
  {
   "cell_type": "code",
   "execution_count": 7,
   "metadata": {},
   "outputs": [],
   "source": [
    "class UnionFindTree:\n",
    "    def __init__(self, n):\n",
    "        self.size = [0]*n\n",
    "        self.parents = [0]*n\n",
    "        for i in range(n):\n",
    "            self.make_tree(i)\n",
    "\n",
    "    def make_tree(self, x):\n",
    "        self.parents[x] = x\n",
    "        self.size[x] = 1\n",
    "\n",
    "    def is_same(self, x, y):\n",
    "        return self.find_root(x) == self.find_root(y)\n",
    "\n",
    "    def find_root(self, x):\n",
    "        if x != self.parents[x]:\n",
    "            self.parents[x] = self.find_root(self.parents[x])\n",
    "        return self.parents[x]\n",
    "\n",
    "    def unite(self, x, y):\n",
    "        x = self.find_root(x)\n",
    "        y = self.find_root(y)\n",
    "        if x == y:\n",
    "            return False\n",
    "        if self.size[x] > self.size[y]:\n",
    "            self.parents[y] = x\n",
    "            self.size[x] += self.size[y]\n",
    "        else:\n",
    "            self.parents[x] = y\n",
    "            self.size[y] += self.size[x]\n",
    "        return True\n",
    "\n",
    "    def tree_size(self, x):\n",
    "        return self.size[self.find_root(x)]"
   ]
  },
  {
   "cell_type": "code",
   "execution_count": 11,
   "metadata": {},
   "outputs": [],
   "source": [
    "N = 2\n",
    "f = (1, 2)\n",
    "tree = UnionFindTree(N)\n",
    "for x, y in enumerate(f):\n",
    "    tree.unite(x, y-1)"
   ]
  },
  {
   "cell_type": "code",
   "execution_count": null,
   "metadata": {},
   "outputs": [],
   "source": []
  }
 ]
}