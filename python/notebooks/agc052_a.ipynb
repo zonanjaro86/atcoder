{
 "metadata": {
  "language_info": {
   "codemirror_mode": {
    "name": "ipython",
    "version": 3
   },
   "file_extension": ".py",
   "mimetype": "text/x-python",
   "name": "python",
   "nbconvert_exporter": "python",
   "pygments_lexer": "ipython3",
   "version": "3.7.4-final"
  },
  "orig_nbformat": 2,
  "kernelspec": {
   "name": "python374jvsc74a57bd0fe9a5490ecbfadacebb578445f08166bf67d9775ffdae10f9a73f275ffe619d5",
   "display_name": "Python 3.7.4 64-bit ('venv': venv)"
  }
 },
 "nbformat": 4,
 "nbformat_minor": 2,
 "cells": [
  {
   "cell_type": "code",
   "execution_count": 42,
   "metadata": {},
   "outputs": [
    {
     "output_type": "stream",
     "name": "stdout",
     "text": [
      "[2, 1, 0, 1, 2, 0, 1, 0, 1, 0, 1, 0, 1, 0, 5, 4, 3, 2, 1, 0]\n"
     ]
    }
   ],
   "source": [
    "S = '>><<><><><><><>>>>>'\n",
    "N = len(S)\n",
    "B = [0]*(N+1)\n",
    "\n",
    "\n",
    "for i in range(N):\n",
    "    if S[i] == '<':\n",
    "        B[i+1] = B[i] + 1\n",
    "\n",
    "for i in range(N-1, -1, -1):\n",
    "    if S[i] == '>':\n",
    "        B[i] = max(B[i], B[i+1] + 1)\n",
    "print(B)\n"
   ]
  },
  {
   "cell_type": "code",
   "execution_count": 100,
   "metadata": {},
   "outputs": [
    {
     "output_type": "stream",
     "name": "stdout",
     "text": [
      "20\n"
     ]
    }
   ],
   "source": [
    "N = 4\n",
    "V = [1, 4, 5, 8, 7, 6, 3, 2]\n",
    "\n",
    "sum = 0\n",
    "V1 = V[:N]\n",
    "V2 = V[N:]\n",
    "\n",
    "\n",
    "# sum = 0\n",
    "# for _ in range(N):\n",
    "#     if V1[-1] < V2[0]:\n",
    "#         aoki = V1.pop(-1)\n",
    "#         takahashi = V2.pop(V2.index(max(V2)))\n",
    "#         sum += takahashi\n",
    "#     else:\n",
    "#         takahashi = V1.pop(V1.index(max(V1)))\n",
    "#         aoki = V2.pop(0)\n",
    "#         sum += takahashi\n",
    "#     print(V1, V2)\n",
    "# print(sum)"
   ]
  },
  {
   "cell_type": "code",
   "execution_count": 85,
   "metadata": {},
   "outputs": [
    {
     "output_type": "stream",
     "name": "stdout",
     "text": [
      "20\n"
     ]
    }
   ],
   "source": [
    "sum = 0\n",
    "for _ in range(N):\n",
    "    mid = len(V)//2\n",
    "    if V[mid-1] < V[mid]:\n",
    "        takahashi = V.pop(mid + V[mid:].index(max(V[mid:])))\n",
    "        aoki = V.pop(mid-1)\n",
    "        sum += takahashi\n",
    "    else:\n",
    "        takahashi = V.pop(V[:mid].index(max(V[:mid])))\n",
    "        aoki = V.pop(mid-1)\n",
    "        sum += takahashi\n",
    "print(sum)"
   ]
  },
  {
   "cell_type": "code",
   "execution_count": 57,
   "metadata": {},
   "outputs": [
    {
     "output_type": "execute_result",
     "data": {
      "text/plain": [
       "[1, 2, 4, 5]"
      ]
     },
     "metadata": {},
     "execution_count": 57
    }
   ],
   "source": [
    "V"
   ]
  },
  {
   "cell_type": "code",
   "execution_count": null,
   "metadata": {},
   "outputs": [],
   "source": []
  }
 ]
}